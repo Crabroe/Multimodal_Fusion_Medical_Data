{
 "cells": [
  {
   "cell_type": "code",
   "execution_count": 13,
   "id": "74b3ff73",
   "metadata": {},
   "outputs": [],
   "source": [
    "%run Loader_ADNI_RNN.py"
   ]
  },
  {
   "cell_type": "code",
   "execution_count": 14,
   "id": "8051bfea",
   "metadata": {},
   "outputs": [
    {
     "name": "stdout",
     "output_type": "stream",
     "text": [
      "in epoch 499, test acc = 0.6363636255264282 / 0.8181818127632141(epoch:83)\n",
      "in epoch 499, test acc = 0.8181818127632141 / 0.9090909361839294(epoch:464)\n",
      "in epoch 499, test acc = 0.3636363744735718 / 0.9090909361839294(epoch:65))\n",
      "in epoch 499, test acc = 0.6363636255264282 / 0.8181818127632141(epoch:480)\n",
      "in epoch 499, test acc = 0.5454545617103577 / 0.7272727489471436(epoch:5)\n",
      "in epoch 499, test acc = 0.5454545617103577 / 0.8181818127632141(epoch:230)\n",
      "in epoch 499, test acc = 0.6363636255264282 / 0.7272727489471436(epoch:162)\n",
      "in epoch 499, test acc = 0.6000000238418579 / 0.8999999761581421(epoch:73)\n",
      "in epoch 499, test acc = 0.20000000298023224 / 0.6000000238418579(epoch:0)\n",
      "in epoch 499, test acc = 0.6000000238418579 / 0.699999988079071(epoch:350))\n",
      "0.79272723\n",
      "roc:0.7633333333333333, sensitivity:0.6799999999999999, specificity:0.8466666666666667\n"
     ]
    }
   ],
   "source": [
    "%run rnn_ADNI_fMRI_01.py"
   ]
  },
  {
   "cell_type": "code",
   "execution_count": null,
   "id": "af6856d5",
   "metadata": {},
   "outputs": [],
   "source": []
  }
 ],
 "metadata": {
  "kernelspec": {
   "display_name": "Python [conda env:lab]",
   "language": "python",
   "name": "lab"
  },
  "language_info": {
   "codemirror_mode": {
    "name": "ipython",
    "version": 3
   },
   "file_extension": ".py",
   "mimetype": "text/x-python",
   "name": "python",
   "nbconvert_exporter": "python",
   "pygments_lexer": "ipython3",
   "version": "3.8.11"
  }
 },
 "nbformat": 4,
 "nbformat_minor": 5
}
