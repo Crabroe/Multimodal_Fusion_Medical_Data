{
 "cells": [
  {
   "cell_type": "code",
   "execution_count": 1,
   "id": "a421978f",
   "metadata": {},
   "outputs": [],
   "source": [
    "%run Loader_FTD_RNN.py"
   ]
  },
  {
   "cell_type": "code",
   "execution_count": 2,
   "id": "4c971121",
   "metadata": {},
   "outputs": [
    {
     "name": "stdout",
     "output_type": "stream",
     "text": [
      "in epoch 599, test acc = 0.6000000238418579 / 0.8999999761581421(epoch:89))\n",
      "in epoch 599, test acc = 0.6666666865348816 / 0.7777777910232544(epoch:597)\n",
      "in epoch 599, test acc = 0.4444444477558136 / 0.6666666865348816(epoch:595)\n",
      "in epoch 599, test acc = 0.3333333432674408 / 0.8888888955116272(epoch:25)\n",
      "in epoch 599, test acc = 0.5555555820465088 / 0.5555555820465088(epoch:598)\n",
      "in epoch 599, test acc = 0.4444444477558136 / 0.6666666865348816(epoch:103)\n",
      "in epoch 599, test acc = 0.6666666865348816 / 0.8888888955116272(epoch:66)\n",
      "in epoch 599, test acc = 0.5555555820465088 / 1.0(epoch:121)6272(epoch:104)\n",
      "in epoch 599, test acc = 0.7777777910232544 / 0.7777777910232544(epoch:598)\n",
      "in epoch 599, test acc = 0.6666666865348816 / 0.8888888955116272(epoch:144)\n",
      "in epoch 599, test acc = 0.3333333432674408 / 0.8888888955116272(epoch:53)\n",
      "in epoch 599, test acc = 0.5555555820465088 / 0.8888888955116272(epoch:94)\n",
      "in epoch 599, test acc = 0.7777777910232544 / 0.8888888955116272(epoch:454)\n",
      "in epoch 599, test acc = 0.6666666865348816 / 0.7777777910232544(epoch:584)\n",
      "in epoch 599, test acc = 0.4444444477558136 / 1.0(epoch:61)2544(epoch:16)\n",
      "in epoch 599, test acc = 0.5555555820465088 / 0.7777777910232544(epoch:409)\n",
      "in epoch 599, test acc = 0.5555555820465088 / 0.6666666865348816(epoch:596)\n",
      "in epoch 599, test acc = 0.4444444477558136 / 0.8888888955116272(epoch:57)\n",
      "in epoch 599, test acc = 0.4444444477558136 / 0.5555555820465088(epoch:582)\n",
      "in epoch 599, test acc = 0.6666666865348816 / 0.7777777910232544(epoch:584)\n",
      "0.80611116\n",
      "roc:0.7983333333333333, sensitivity:0.7066666666666667, specificity:0.89\n"
     ]
    }
   ],
   "source": [
    "%run rnn_FTD_fMRI_00.py"
   ]
  },
  {
   "cell_type": "code",
   "execution_count": null,
   "id": "ebfb347a",
   "metadata": {},
   "outputs": [],
   "source": []
  }
 ],
 "metadata": {
  "kernelspec": {
   "display_name": "Python [conda env:lab]",
   "language": "python",
   "name": "lab"
  },
  "language_info": {
   "codemirror_mode": {
    "name": "ipython",
    "version": 3
   },
   "file_extension": ".py",
   "mimetype": "text/x-python",
   "name": "python",
   "nbconvert_exporter": "python",
   "pygments_lexer": "ipython3",
   "version": "3.8.11"
  }
 },
 "nbformat": 4,
 "nbformat_minor": 5
}
